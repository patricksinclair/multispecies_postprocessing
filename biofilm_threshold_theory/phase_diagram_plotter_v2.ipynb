{
 "cells": [
  {
   "cell_type": "code",
   "execution_count": 1,
   "metadata": {},
   "outputs": [],
   "source": [
    "import pandas as pd\n",
    "import seaborn as sns\n",
    "import matplotlib.pyplot as plt\n",
    "from matplotlib.ticker import StrMethodFormatter, FormatStrFormatter\n",
    "import math\n",
    "import numpy as np\n",
    "import matplotlib.pylab as pl\n",
    "import matplotlib.patches as mpl_patches\n",
    "import os.path\n",
    "from itertools import cycle\n",
    "import string\n",
    "from mpl_toolkits.axes_grid1.inset_locator import inset_axes\n",
    "import matplotlib.gridspec as gridspec\n",
    "\n",
    "plt.rcParams[\"font.family\"] = \"Times New Roman\"\n",
    "params = {'mathtext.default': 'regular' }          \n",
    "plt.rcParams.update(params)"
   ]
  },
  {
   "cell_type": "code",
   "execution_count": 8,
   "metadata": {},
   "outputs": [],
   "source": [
    "n_measurements = 20 #no. of different values used for each param in the phase diagram\n",
    "max_gRate = 0.083\n",
    "g = max_gRate\n",
    "K = 10000 # this is the K value used in the heatmap sims, K is usually 1000\n",
    "#K_big = 10000 # this is the K value used in the heatmap sims\n",
    "\n",
    "immigration_ratio = 0.8 # this is r_im/Kg\n",
    "r_imm = immigration_ratio*K*g # this is the actual numerical value of the immigration rate\n",
    "\n",
    "#when deterioration greater than this value we change from immigration dominated to deterioration dominated\n",
    "# phase2_lim = immigration_rate/K \n",
    "# phase2_lim_scaled = phase2_lim/max_gRate\n",
    "\n",
    "N_thresh_min = 0. #range of values for N*\n",
    "N_thresh_max = 1.5\n",
    "delta_N_thresh = (N_thresh_max - N_thresh_min)/n_measurements\n",
    "\n",
    "det_ratio_min = 0. #range of values for deterioration ratio\n",
    "det_ratio_max = 1.5\n",
    "delta_det_ratio = (det_ratio_max - det_ratio_min)/n_measurements\n",
    "\n",
    "#det_ratio_vals_scaled = np.linspace(det_ratio_min, det_ratio_max*((K*max_gRate**2)/immigration_rate), 101)\n",
    "det_ratio_vals = np.linspace(det_ratio_min, det_ratio_max, 101)\n",
    "\n",
    "#collection of the parameter pairs used in the histograms of the time to 1st microhab\n",
    "# commented out b2 and s2 as we didn't use them for the big rep runs\n",
    "# format is (N*/K, r_det/g)\n",
    "histogram_param_pairs = [(1.35,  0.6),\n",
    "                         #(1.20,  0.675),\n",
    "                         (0.825, 1.2),\n",
    "                         #(0.75,  1.35),\n",
    "                         (0.6,   0.3),\n",
    "                         (0.45,  1.2)]\n",
    "\n",
    "# histogram_param_pairs_scaled = [(n_k, r_det*(K*max_gRate**2)/immigration_rate) for n_k, r_det in histogram_param_pairs]\n",
    "\n",
    "# these are used to highlight the phase diagram squares used in the stochastic/deterministic comparison plots\n",
    "# (modified to be close to the ones used in the phase diagram)\n",
    "# first pair is deterministic, second deterministic\n",
    "additional_param_pairs = [(0.675, 0.525),\n",
    "                          (1.2, 0.525)]\n",
    "\n",
    "\n",
    "histogram_param_pair_labels = [\"a\", \n",
    "                               \"b\", \n",
    "                               \"c\", \n",
    "                               \"d\"]\n",
    "\n",
    "\n",
    "\n",
    "histogram_param_pairs = histogram_param_pairs #+ additional_param_pairs\n",
    "histogram_param_pair_labels = histogram_param_pair_labels #+ additional_param_pair_labels\n",
    "\n",
    "histogram_param_pair_list = [(pp[0], pp[1], l) for pp, l in zip(histogram_param_pairs, histogram_param_pair_labels)]"
   ]
  },
  {
   "cell_type": "code",
   "execution_count": 3,
   "metadata": {},
   "outputs": [],
   "source": [
    "df_list = [] #empty list to hold all the dataframes\n",
    "#iterate through all the seperate csv files and append them to the list\n",
    "for n in range(n_measurements+1):\n",
    "    for d in range(n_measurements+1):\n",
    "        n_thresh = N_thresh_min + n*(delta_N_thresh)\n",
    "        det_ratio = det_ratio_min + d*(delta_det_ratio)\n",
    "        \n",
    "        n_thresh_str = \"{:.3f}\".format(n_thresh)\n",
    "        det_ratio_str = \"{:.3f}\".format(det_ratio)\n",
    "        \n",
    "        df = pd.read_csv(\"timeTo1Microhab_phaseDiagram_bigK/mhLim-1_N^-\"+n_thresh_str+\"_rDet-\"+det_ratio_str+\".csv\")\n",
    "        df['time_to_n_raw'] = df['time_to_n']\n",
    "        df['time_to_n'] = df['time_to_n']*max_gRate\n",
    "        \n",
    "        averaged_df = pd.DataFrame(df.mean().to_dict(),index=[df.index.values[-1]])\n",
    "        averaged_df[\"time_to_n_stDev\"] = df[\"time_to_n\"].std()\n",
    "        averaged_df[\"coeff_variation\"] = df[\"time_to_n\"].std()/df[\"time_to_n\"].mean() if df[\"time_to_n\"].mean() > 0 else None\n",
    "\n",
    "        df_list.append(averaged_df)\n",
    "        \n",
    "#add all the dataframes together, this is the final dataframe with all the data for the phase diagram\n",
    "param_data = pd.concat(df_list, ignore_index=True)"
   ]
  },
  {
   "cell_type": "code",
   "execution_count": 5,
   "metadata": {},
   "outputs": [],
   "source": [
    "# rescale the time_to_n column\n",
    "param_data['tN_adjusted'] = param_data[\"time_to_n\"]\n",
    "param_data['tN_adjusted'][(param_data['time_to_n'] == 0.) & (param_data['time_elapsed'] > 5e5)] = 0. # this means the population immediately reached the limit in the first interval?\n",
    "param_data['tN_adjusted'][(param_data['time_to_n'] == 0.) & (param_data['time_elapsed'] < 5e5)] = None # the population never reached the limit during the simulations\n",
    "\n",
    "# these aren't really used here any more\n",
    "param_data['tN_stDev_adjusted'] = param_data[\"time_to_n_stDev\"]\n",
    "param_data['tN_stDev_adjusted'][(param_data['time_to_n'] == 0.) & (param_data['time_elapsed'] > 5e5)] = 0.\n",
    "param_data['tN_stDev_adjusted'][(param_data['time_to_n'] == 0.) & (param_data['time_elapsed'] < 5e5)] = None\n",
    "param_data['stochasticity'] = param_data['tN_stDev_adjusted']\n",
    "param_data['stochasticity'][(param_data['stochasticity'] > 0.) & param_data['stochasticity']] = param_data['tN_stDev_adjusted']/param_data['tN_adjusted']"
   ]
  },
  {
   "cell_type": "code",
   "execution_count": 17,
   "metadata": {},
   "outputs": [],
   "source": [
    "# currently the det_ratio column is in terms of column_value = r_det/g, we want to rescale it to r_det*K/r_imm\n",
    "# we already worked out the true numerical value of the immigration rate above, so we can rescale as\n",
    "r_det_scaling_factor = (g*K/r_imm)\n",
    "param_data['r_det_K_r_imm_ratio'] = param_data['det_ratio']*r_det_scaling_factor\n",
    "\n",
    "# also rescale the param pair values for the highlighted squares\n",
    "histogram_param_pairs_scaled = [(n_k, r_det*r_det_scaling_factor) for n_k, r_det in histogram_param_pairs]\n",
    "\n",
    "# used to plot the theory vals\n",
    "det_ratio_vals_scaled = np.linspace(param_data['r_det_K_r_imm_ratio'].min(), param_data['r_det_K_r_imm_ratio'].max(), 101)"
   ]
  },
  {
   "cell_type": "code",
   "execution_count": 15,
   "metadata": {},
   "outputs": [],
   "source": [
    "# this is the pivot table used to make the heatmap. n_thresh is already scaled in N/K\n",
    "pivot = param_data.pivot(index='n_thresh', columns='r_det_K_r_imm_ratio', values='tN_adjusted')\n",
    "\n",
    "# used to rescale imshow to the numerical ranges\n",
    "extent = [param_data['r_det_K_r_imm_ratio'].min(), param_data['r_det_K_r_imm_ratio'].max(), param_data['n_thresh'].min(), param_data['n_thresh'].max()]\n",
    "\n",
    "# create the mask used to highlight the histogram parameter pairs\n",
    "masko_full = np.zeros_like(pivot)\n",
    "for pp, label in zip(histogram_param_pairs_scaled, histogram_param_pair_labels):\n",
    "    n_thresh, r_det = pp\n",
    "    #pivot.keys() returns the values of r_det with floating point errors\n",
    "    #following lines get the keys that are used in pivot\n",
    "    r_det_key = (pivot.keys()[np.isclose(pivot.keys(), r_det)])[0]\n",
    "    n_thresh_key = (pivot[r_det_key].keys()[np.isclose(pivot[r_det_key].keys(), n_thresh)])[0]\n",
    "\n",
    "    r_det_key_index = np.where(np.isclose(pivot.keys(), r_det))[0][0]\n",
    "\n",
    "    n_thresh_key_index = np.where(np.isclose(pivot[pivot.keys()[r_det_key_index]], n_thresh))\n",
    "\n",
    "    masko = np.isclose(pivot, pivot[r_det_key][n_thresh_key])\n",
    "    masko_full += masko\n",
    "\n",
    "pivot_masked = np.ma.masked_where(masko_full, pivot)"
   ]
  },
  {
   "cell_type": "code",
   "execution_count": 27,
   "metadata": {},
   "outputs": [],
   "source": [
    "def phase_diag_line_v2(r_det_K_r_imm_ratio):\n",
    "    '''\n",
    "    Here the x values have already been rescaled to be the true numerical values of r_det*K/r_imm\n",
    "    '''\n",
    "    K = K_big\n",
    "    i = r_imm\n",
    "    g = max_gRate\n",
    "    d = r_det_K_r_imm_ratio*(r_imm/K)\n",
    "    \n",
    "    \n",
    "    NpgK = K*(1-d/g)*(0.5+0.5*np.sqrt(1+(4*i/g/K)/(1-d/g)**2))\n",
    "    Nmgk = K*(1-d/g)*(0.5-0.5*np.sqrt(1+(4*i/g/K)/(1-d/g)**2))\n",
    "\n",
    "    NFP = np.max([NpgK, Nmgk])\n",
    "    \n",
    "    return NFP/K"
   ]
  },
  {
   "cell_type": "code",
   "execution_count": 28,
   "metadata": {},
   "outputs": [
    {
     "name": "stdout",
     "output_type": "stream",
     "text": [
      "1.52469507659596\n",
      "0.6787087810503355\n"
     ]
    },
    {
     "data": {
      "image/png": "[encoded data removed]",
      "text/plain": [
       "<Figure size 720x576 with 2 Axes>"
      ]
     },
     "metadata": {
      "needs_background": "light"
     },
     "output_type": "display_data"
    },
    {
     "name": "stdout",
     "output_type": "stream",
     "text": [
      "1.0004445322316002\n",
      "0.9995556433513823\n",
      "1.52469507659596\n"
     ]
    }
   ],
   "source": [
    "fig, ax = plt.subplots()\n",
    "fig.set_size_inches((10,8))\n",
    "plt.imshow(pivot, origin='lower', cmap='Greens', vmax=3, aspect='auto',\n",
    "           extent=extent) # plot the unmasked one first, these squares will shine through when we then plot the masked one.\n",
    "im = plt.imshow(pivot_masked, origin='lower', cmap='twilight_shifted', vmax=3, aspect='auto',\n",
    "           extent=extent)\n",
    "\n",
    "#print(det_ratio_vals)\n",
    "theoryN_vals = np.vectorize(phase_diag_line_v2)(det_ratio_vals_scaled)\n",
    "print(theoryN_vals[0]) #compare these to the line position to make sure it's in the correct place\n",
    "print(theoryN_vals[-1])\n",
    "\n",
    "ax.plot(det_ratio_vals_scaled, theoryN_vals, linewidth = 5.2, color=\"#e60073\")\n",
    "\n",
    "\n",
    "fig.colorbar(im)\n",
    "\n",
    "ax.set_xlabel(\"$\\\\frac{r_{det}K}{r_{imm}}$\", fontsize=20)\n",
    "ax.set_ylabel(\"$N^*/K$\", fontsize=20)\n",
    "\n",
    "plt.show()\n",
    "print(phase_diag_line_v2(0.999))\n",
    "print(phase_diag_line_v2(1.001))\n",
    "print(phase_diag_line_v2(0))"
   ]
  },
  {
   "cell_type": "code",
   "execution_count": null,
   "metadata": {},
   "outputs": [],
   "source": []
  },
  {
   "cell_type": "code",
   "execution_count": null,
   "metadata": {},
   "outputs": [],
   "source": []
  },
  {
   "cell_type": "code",
   "execution_count": null,
   "metadata": {},
   "outputs": [],
   "source": []
  },
  {
   "cell_type": "code",
   "execution_count": null,
   "metadata": {},
   "outputs": [],
   "source": []
  }
 ],
 "metadata": {
  "kernelspec": {
   "display_name": "Python 3",
   "language": "python",
   "name": "python3"
  },
  "language_info": {
   "codemirror_mode": {
    "name": "ipython",
    "version": 3
   },
   "file_extension": ".py",
   "mimetype": "text/x-python",
   "name": "python",
   "nbconvert_exporter": "python",
   "pygments_lexer": "ipython3",
   "version": "3.8.3"
  }
 },
 "nbformat": 4,
 "nbformat_minor": 4
}
