{
 "cells": [
  {
   "cell_type": "code",
   "execution_count": 2,
   "metadata": {},
   "outputs": [],
   "source": [
    "import numpy as np\n",
    "import csv\n",
    "import matplotlib.pyplot as plt\n",
    "import matplotlib.gridspec as gridspec\n",
    "import math\n",
    "from mpl_toolkits.axes_grid1.inset_locator import inset_axes\n",
    "import re\n",
    "import collections\n",
    "import string\n",
    "from collections import OrderedDict\n",
    "import random\n",
    "from collections import Counter\n",
    "import statistics\n",
    "num_regex = re.compile(r'\\d+')\n",
    "import os\n",
    "import operator"
   ]
  },
  {
   "cell_type": "code",
   "execution_count": null,
   "metadata": {},
   "outputs": [],
   "source": [
    "t_4200 = 4200.0\n",
    "sigma99 = '0.56003'\n",
    "sigma95 = '1.00180'\n",
    "sigma90 = '1.51378'\n",
    "pc_sigma_pair_99 = (99, sigma99)\n",
    "pc_sigma_pair_95 = (95, sigma95)\n",
    "pc_sigma_pair_90 = (90, sigma90)\n",
    "\n",
    "#dates of the runs performed\n",
    "dates99 = ['12-June-2020', '13-June-2020']\n",
    "dates97 = ['12-June-2020']\n",
    "dates95 = ['12-June-2020']\n",
    "dates93 = ['18-June-2020']"
   ]
  },
  {
   "cell_type": "code",
   "execution_count": null,
   "metadata": {},
   "outputs": [],
   "source": [
    "def getEventCounters()"
   ]
  }
 ],
 "metadata": {
  "kernelspec": {
   "display_name": "Python 3",
   "language": "python",
   "name": "python3"
  },
  "language_info": {
   "codemirror_mode": {
    "name": "ipython",
    "version": 3
   },
   "file_extension": ".py",
   "mimetype": "text/x-python",
   "name": "python",
   "nbconvert_exporter": "python",
   "pygments_lexer": "ipython3",
   "version": "3.7.6"
  }
 },
 "nbformat": 4,
 "nbformat_minor": 4
}
