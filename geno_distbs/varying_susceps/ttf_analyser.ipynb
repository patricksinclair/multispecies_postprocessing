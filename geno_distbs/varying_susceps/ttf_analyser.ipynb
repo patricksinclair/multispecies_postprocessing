{
 "cells": [
  {
   "cell_type": "code",
   "execution_count": 1,
   "metadata": {},
   "outputs": [],
   "source": [
    "import numpy as np\n",
    "import pandas as pd\n",
    "from scipy import stats\n",
    "from scipy.optimize import curve_fit\n",
    "import matplotlib.pyplot as plt\n",
    "import math"
   ]
  },
  {
   "cell_type": "code",
   "execution_count": 9,
   "metadata": {},
   "outputs": [
    {
     "data": {
      "text/html": [
       "<div>\n",
       "<style scoped>\n",
       "    .dataframe tbody tr th:only-of-type {\n",
       "        vertical-align: middle;\n",
       "    }\n",
       "\n",
       "    .dataframe tbody tr th {\n",
       "        vertical-align: top;\n",
       "    }\n",
       "\n",
       "    .dataframe thead th {\n",
       "        text-align: right;\n",
       "    }\n",
       "</style>\n",
       "<table border=\"1\" class=\"dataframe\">\n",
       "  <thead>\n",
       "    <tr style=\"text-align: right;\">\n",
       "      <th></th>\n",
       "      <th>runID</th>\n",
       "      <th>failure_time</th>\n",
       "    </tr>\n",
       "  </thead>\n",
       "  <tbody>\n",
       "    <tr>\n",
       "      <th>0</th>\n",
       "      <td>0</td>\n",
       "      <td>26.1</td>\n",
       "    </tr>\n",
       "    <tr>\n",
       "      <th>1</th>\n",
       "      <td>1</td>\n",
       "      <td>27.4</td>\n",
       "    </tr>\n",
       "    <tr>\n",
       "      <th>2</th>\n",
       "      <td>2</td>\n",
       "      <td>26.2</td>\n",
       "    </tr>\n",
       "    <tr>\n",
       "      <th>3</th>\n",
       "      <td>3</td>\n",
       "      <td>27.3</td>\n",
       "    </tr>\n",
       "    <tr>\n",
       "      <th>4</th>\n",
       "      <td>4</td>\n",
       "      <td>25.5</td>\n",
       "    </tr>\n",
       "    <tr>\n",
       "      <th>...</th>\n",
       "      <td>...</td>\n",
       "      <td>...</td>\n",
       "    </tr>\n",
       "    <tr>\n",
       "      <th>495</th>\n",
       "      <td>495</td>\n",
       "      <td>25.2</td>\n",
       "    </tr>\n",
       "    <tr>\n",
       "      <th>496</th>\n",
       "      <td>496</td>\n",
       "      <td>30.1</td>\n",
       "    </tr>\n",
       "    <tr>\n",
       "      <th>497</th>\n",
       "      <td>497</td>\n",
       "      <td>28.5</td>\n",
       "    </tr>\n",
       "    <tr>\n",
       "      <th>498</th>\n",
       "      <td>498</td>\n",
       "      <td>23.8</td>\n",
       "    </tr>\n",
       "    <tr>\n",
       "      <th>499</th>\n",
       "      <td>499</td>\n",
       "      <td>26.6</td>\n",
       "    </tr>\n",
       "  </tbody>\n",
       "</table>\n",
       "<p>500 rows × 2 columns</p>\n",
       "</div>"
      ],
      "text/plain": [
       "     runID  failure_time\n",
       "0        0          26.1\n",
       "1        1          27.4\n",
       "2        2          26.2\n",
       "3        3          27.3\n",
       "4        4          25.5\n",
       "..     ...           ...\n",
       "495    495          25.2\n",
       "496    496          30.1\n",
       "497    497          28.5\n",
       "498    498          23.8\n",
       "499    499          26.6\n",
       "\n",
       "[500 rows x 2 columns]"
      ]
     },
     "execution_count": 9,
     "metadata": {},
     "output_type": "execute_result"
    }
   ],
   "source": [
    "df = pd.read_csv(\"time_to_failure_data/timeToFailure-14_pc_res-c_max=2.00.csv\").drop(columns=[\"failure_time.1\"])\n",
    "#df = df.drop(columns=[\"failure_time.1\"])\n",
    "df"
   ]
  },
  {
   "cell_type": "code",
   "execution_count": 10,
   "metadata": {},
   "outputs": [],
   "source": [
    "cmax_vals = [2., 3., 4., 5.] #values of c_max"
   ]
  },
  {
   "cell_type": "code",
   "execution_count": 11,
   "metadata": {},
   "outputs": [],
   "source": [
    "def getListOfDataFramesForPCRes(pc_res, c_vals):\n",
    "    '''gets a list containing the dataframes for each ttf simulation as a function of c_max for a specified % resistant'''\n",
    "    \n",
    "    df_list = []\n",
    "    \n",
    "    for cv in c_vals:\n",
    "        df = pd.read_csv(\"time_to_failure_data/timeToFailure-\"+str(pc_res)+\"_pc_res-c_max=\"+\"{:.2f}\".format(cv)+\".csv\")\n",
    "        df_list.append(df)\n",
    "        \n",
    "    return df_list"
   ]
  },
  {
   "cell_type": "code",
   "execution_count": 34,
   "metadata": {},
   "outputs": [],
   "source": [
    "def survival_probability(ttf_data):\n",
    "    '''takes in a dataframe and works out the survival probability as a function of time'''\n",
    "    histo, bin_edges = np.histogram(ttf_data[\"failure_time\"], bins=100)\n",
    "    n_vals = len(ttf_data.columns) #get number of runs\n",
    "    \n",
    "    survival_probs = (n_vals-np.cumsum(histo[:]))/n_vals #get the survival probs (ignoring the 0 bin)\n",
    "    survival_probs = np.append(1., survival_probs) #add the initial value of 1. for t = 0\n",
    "    errs = (survival_probs*(1. - survival_probs))/np.sqrt(n_vals)\n",
    "    #print(n_vals)\n",
    "    #print(errs)\n",
    "    return bin_edges[:-1], survival_probs[:-1], errs"
   ]
  },
  {
   "cell_type": "code",
   "execution_count": 35,
   "metadata": {},
   "outputs": [],
   "source": [
    "def plot_survival_probs(ttf):\n",
    "    fig, ax = plt.subplots(figsize=(8,6))\n",
    "    titleSize = 16\n",
    "    labelSize = 16\n",
    "    numbersize = 14\n",
    "    legendsize = 10\n",
    "    IDsize=12\n",
    "    \n",
    "    #for ttf, pc_r in zip(collated_ttfs, pc_res_list):\n",
    "    t, surv_prob, errs = survival_probability(ttf)\n",
    "    #ax.errorbar(t[3:], surv_prob[3:], yerr=errs[3:], lw=2.2)\n",
    "    ax.plot(t, surv_prob)\n",
    "    \n",
    "    ax.set_title('Survival probability vs time', fontsize=titleSize)\n",
    "    ax.set_xlabel('time (hours)', fontsize=labelSize)\n",
    "    ax.set_ylabel('Survival probability', fontsize=labelSize)\n",
    "    ax.xaxis.set_tick_params(labelsize=numbersize)\n",
    "    ax.yaxis.set_tick_params(labelsize=numbersize)\n",
    "    #ax.set_xlim(0, float(time_1yr))\n",
    "    plt.legend(fontsize='large')\n",
    "    plt.show()"
   ]
  },
  {
   "cell_type": "code",
   "execution_count": 36,
   "metadata": {},
   "outputs": [],
   "source": [
    "ttf_14pcres = getListOfDataFramesForPCRes(14, cmax_vals)\n",
    "ttf_15pcres = getListOfDataFramesForPCRes(15, cmax_vals)\n",
    "ttf_16pcres = getListOfDataFramesForPCRes(16, cmax_vals)\n"
   ]
  },
  {
   "cell_type": "code",
   "execution_count": 38,
   "metadata": {},
   "outputs": [
    {
     "name": "stderr",
     "output_type": "stream",
     "text": [
      "No handles with labels found to put in legend.\n"
     ]
    },
    {
     "data": {
      "image/png": "[encoded data removed]",
      "text/plain": [
       "<Figure size 576x432 with 1 Axes>"
      ]
     },
     "metadata": {
      "needs_background": "light"
     },
     "output_type": "display_data"
    },
    {
     "name": "stderr",
     "output_type": "stream",
     "text": [
      "No handles with labels found to put in legend.\n"
     ]
    },
    {
     "data": {
      "image/png": "[encoded data removed]",
      "text/plain": [
       "<Figure size 576x432 with 1 Axes>"
      ]
     },
     "metadata": {
      "needs_background": "light"
     },
     "output_type": "display_data"
    }
   ],
   "source": [
    "plot_survival_probs(ttf_14pcres[-1])\n",
    "plot_survival_probs(ttf_15pcres[-1])"
   ]
  },
  {
   "cell_type": "code",
   "execution_count": null,
   "metadata": {},
   "outputs": [],
   "source": []
  }
 ],
 "metadata": {
  "kernelspec": {
   "display_name": "Python 3",
   "language": "python",
   "name": "python3"
  },
  "language_info": {
   "codemirror_mode": {
    "name": "ipython",
    "version": 3
   },
   "file_extension": ".py",
   "mimetype": "text/x-python",
   "name": "python",
   "nbconvert_exporter": "python",
   "pygments_lexer": "ipython3",
   "version": "3.8.3"
  }
 },
 "nbformat": 4,
 "nbformat_minor": 4
}
