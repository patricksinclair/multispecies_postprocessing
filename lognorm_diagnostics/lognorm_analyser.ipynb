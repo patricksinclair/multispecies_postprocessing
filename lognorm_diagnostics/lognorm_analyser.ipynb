{
 "cells": [
  {
   "cell_type": "code",
   "execution_count": 1,
   "metadata": {},
   "outputs": [],
   "source": [
    "import pandas as pd\n",
    "import numpy as np\n",
    "import matplotlib.pyplot as plt\n",
    "import matplotlib.ticker as mtick\n",
    "import matplotlib.ticker as ticker\n",
    "from scipy import stats\n",
    "from scipy.stats import lognorm\n",
    "from scipy.optimize import curve_fit\n",
    "from scipy.optimize import minimize_scalar\n",
    "from scipy.optimize import minimize\n",
    "import math"
   ]
  },
  {
   "cell_type": "code",
   "execution_count": 26,
   "metadata": {},
   "outputs": [],
   "source": [
    "#these values were generated in the java code\n",
    "#using this to double check that the lognorm distb is being properly implemented\n",
    "lognorm_99pc_samples = pd.read_csv(\"99_suscep-logNormSamples.csv\")\n",
    "lognorm_8pc_samples_NEW = pd.read_csv(\"8_resistant-logNormSamples.csv\")\n",
    "lognorm_10pc_samples_NEW = pd.read_csv(\"10_resistant-logNormSamples.csv\")\n",
    "lognorm_12pc_samples_NEW = pd.read_csv(\"12_resistant-logNormSamples.csv\")\n",
    "lognorm_1pc_samples_NEW = pd.read_csv(\"1_resistant-logNormSamples.csv\")\n",
    "\n",
    "lognorm_8pc_samples_NEWER = pd.read_csv(\"8_resistant_cmax-5-logNormSamples.csv\")\n",
    "lognorm_10pc_samples_NEWER = pd.read_csv(\"10_resistant_cmax-5-logNormSamples.csv\")\n",
    "lognorm_12pc_samples_NEWER = pd.read_csv(\"12_resistant_cmax-5-logNormSamples.csv\")\n",
    "\n",
    "lognorm_14pc_samples_NEWER = pd.read_csv(\"14_resistant_cmax-5-logNormSamples.csv\")\n",
    "lognorm_15pc_samples_NEWER = pd.read_csv(\"15_resistant_cmax-5-logNormSamples.csv\")\n",
    "lognorm_16pc_samples_NEWER = pd.read_csv(\"16_resistant_cmax-5-logNormSamples.csv\")\n",
    "\n",
    "\n",
    "#lognorm_99pc_samples\n",
    "n_bins = 1000\n",
    "#lognorm_8pc_samples_NEW"
   ]
  },
  {
   "cell_type": "code",
   "execution_count": 27,
   "metadata": {},
   "outputs": [
    {
     "data": {
      "image/png": "[encoded data removed]",
      "text/plain": [
       "<Figure size 432x288 with 1 Axes>"
      ]
     },
     "metadata": {
      "needs_background": "light"
     },
     "output_type": "display_data"
    },
    {
     "data": {
      "image/png": "[encoded data removed]",
      "text/plain": [
       "<Figure size 432x288 with 1 Axes>"
      ]
     },
     "metadata": {
      "needs_background": "light"
     },
     "output_type": "display_data"
    },
    {
     "data": {
      "image/png": "[encoded data removed]",
      "text/plain": [
       "<Figure size 432x288 with 1 Axes>"
      ]
     },
     "metadata": {
      "needs_background": "light"
     },
     "output_type": "display_data"
    }
   ],
   "source": [
    "#histo = lognorm_99pc_samples.hist(bins=n_bins)\n",
    "histo = lognorm_14pc_samples_NEWER.hist(bins=n_bins)\n",
    "histo = lognorm_15pc_samples_NEWER.hist(bins=n_bins)\n",
    "histo = lognorm_16pc_samples_NEWER.hist(bins=n_bins)\n",
    "#histo = lognorm_1pc_samples_NEW.hist(bins=n_bins)\n"
   ]
  },
  {
   "cell_type": "code",
   "execution_count": 33,
   "metadata": {},
   "outputs": [],
   "source": [
    "#list of params [pc resistant, scale, sigma]\n",
    "params_99_suscep = [0.99, 2.71760274, 0.56002833]\n",
    "params_98_suscep = [0.98, 2.54669037, 0.66599239]\n",
    "params_97_suscep = [0.97, 2.37276256, 0.76486794]\n",
    "params_96_suscep = [0.96, 2.17434104, 0.87159677]\n",
    "params_95_suscep = [0.95, 1.9246899,  1.00179994]\n",
    "params_94_suscep = [0.94, 1.54590048, 1.20080013]\n",
    "params_93_suscep = [0.93, 1.01073016, 1.51389233]\n",
    "\n",
    "#as we're reducing c_max, we will use the scipy lognorm distributions to find out what the value of the cdf is at the new c_max value\n",
    "#so for the old 1% resistant pops, this % value will be larger as c_max will be smaller, so more of the distribution will be above it\n",
    "c_max_old = 5.\n",
    "c_max_new = 10.\n",
    "\n",
    "params_14_res = [1.-0.14, 2.703747953786337, 0.5690825284230452]\n",
    "params_15_res = [1.-0.15, 2.6133256846855746, 0.6260058161550592]\n",
    "params_16_res = [1.-0.16, 2.47772924764521, 0.7060073500033884]"
   ]
  },
  {
   "cell_type": "code",
   "execution_count": 31,
   "metadata": {},
   "outputs": [],
   "source": [
    "def compareOldNewPercentages(params):\n",
    "    \n",
    "    print(\"cdf at c_max=\"+str(c_max_old)+ \" - pc_res (old) = {:.2f}\".format((1-params[0])*100.))\n",
    "    print(\"{:.4f}\".format(stats.lognorm(s=params[2], scale=params[1]).cdf(c_max_old))+\" => percent resistant is {:.2f}%\".format((1. - stats.lognorm(s=params[2], scale=params[1]).cdf(c_max_old))*100.))\n",
    "    print()\n",
    "    print(\"cdf at c_max=\"+str(c_max_new)+ \" - pc_res (old) = {:.2f}\".format((1-params[0])*100.))\n",
    "    print(\"{:.4f}\".format(stats.lognorm(s=params[2], scale=params[1]).cdf(c_max_new))+\" => percent resistant is {:.2f}%\".format((1. - stats.lognorm(s=params[2], scale=params[1]).cdf(c_max_new))*100.))\n",
    "    print(\"=============================================================\")\n",
    "    print()\n",
    "    \n"
   ]
  },
  {
   "cell_type": "code",
   "execution_count": 34,
   "metadata": {},
   "outputs": [
    {
     "name": "stdout",
     "output_type": "stream",
     "text": [
      "cdf at c_max=5.0 - pc_res (old) = 14.00\n",
      "0.8600 => percent resistant is 14.00%\n",
      "\n",
      "cdf at c_max=10.0 - pc_res (old) = 14.00\n",
      "0.9892 => percent resistant is 1.08%\n",
      "=============================================================\n",
      "\n",
      "cdf at c_max=5.0 - pc_res (old) = 15.00\n",
      "0.8500 => percent resistant is 15.00%\n",
      "\n",
      "cdf at c_max=10.0 - pc_res (old) = 15.00\n",
      "0.9840 => percent resistant is 1.60%\n",
      "=============================================================\n",
      "\n",
      "cdf at c_max=5.0 - pc_res (old) = 16.00\n",
      "0.8400 => percent resistant is 16.00%\n",
      "\n",
      "cdf at c_max=10.0 - pc_res (old) = 16.00\n",
      "0.9759 => percent resistant is 2.41%\n",
      "=============================================================\n",
      "\n"
     ]
    }
   ],
   "source": [
    "# compareOldNewPercentages(params_99_suscep)\n",
    "# compareOldNewPercentages(params_98_suscep)\n",
    "# compareOldNewPercentages(params_97_suscep)\n",
    "# compareOldNewPercentages(params_96_suscep)\n",
    "# compareOldNewPercentages(params_95_suscep)\n",
    "\n",
    "compareOldNewPercentages(params_14_res)\n",
    "compareOldNewPercentages(params_15_res)\n",
    "compareOldNewPercentages(params_16_res)"
   ]
  },
  {
   "cell_type": "markdown",
   "metadata": {},
   "source": [
    "'''\n",
    "OLD: As we're changing c_max, we'll get some new values for the distributions so that the % resistances have some nicer numbers\n",
    "We'll set c_max to 6, and the % resistances to 8, 10, 12.\n",
    "\n",
    "NEW: We've ended up going for c_max = 5, % resistances of 14, 15, 16\n",
    "'''"
   ]
  },
  {
   "cell_type": "code",
   "execution_count": 17,
   "metadata": {},
   "outputs": [],
   "source": [
    "def calcMuAndSigma(avg_mic, c_max, percent_resistant, scale_guess, sigma_guess):\n",
    "    '''\n",
    "    method to calculate the lognormal distribution parameters scale and sigma.\n",
    "    here scale is equivalent to exp(mu), so when using the value in the java sims, remember to use double mu = Math.log(scale)\n",
    "    \n",
    "    cdf = cumulative distribution function\n",
    "    \n",
    "    avg_mic: the average mic of the distribution, extracted from the AkzoNobel data\n",
    "    c_max: the maximum concentration of the biocide that the population will be exposed to\n",
    "    percent_resistant: the percent of the population has an MIC > c_max\n",
    "    scale_guess, sigma_guess: initial guesses for the parameters, used for the minimising stuff \n",
    "    \n",
    "    returns: scale, sigma - shape parameters for the lognorm distribution for the given constraints\n",
    "    '''\n",
    "    \n",
    "    percentile_resistant = 1. - percent_resistant/100. #translates percent -> percentile for minimisation purposes\n",
    "    \n",
    "    def constraint_func(params):\n",
    "        \n",
    "        scale, sigma = params\n",
    "        \n",
    "        #want to constrain the lognorm such that the given percentile_resistant has an MIC of c_max\n",
    "        #use a sum of least squares type of thing to be minimised\n",
    "        minimise_percentile = (percentile_resistant - stats.lognorm(s=sigma, scale=scale).cdf(c_max))**2\n",
    "        \n",
    "        #also want to constrain the lognorm such that its mean is the same as the avg_mic value\n",
    "        logNormMean = stats.lognorm(s=sigma, scale=scale).mean()\n",
    "        minimise_mean = (avg_mic - logNormMean)**2\n",
    "        \n",
    "        return minimise_percentile + minimise_mean\n",
    "    \n",
    "    \n",
    "    #initial values for scale and sigma\n",
    "    params0 = [scale_guess, sigma_guess]\n",
    "    result = minimize(constraint_func, params0, method='Nelder-Mead')\n",
    "    \n",
    "    scale_fit, sigma_fit = result.x\n",
    "    fitted_lognorm = stats.lognorm(s=sigma_fit, scale=scale_fit)\n",
    "    \n",
    "    fitted_lognorm_mean = fitted_lognorm.mean()\n",
    "    cdf_avgMIC = fitted_lognorm.cdf(avg_mic) #c\n",
    "    cdf_percentileRes = fitted_lognorm.cdf(c_max)\n",
    "    \n",
    "    \n",
    "    print(\"parameters for population with \"+str(percent_resistant)+\"% resistance and c_max = \"+str(c_max)+\":\")\n",
    "    print(\"scale, sigma: \"+str(result.x[0])+\", \"+str(result.x[1]))\n",
    "    print(\"mu = log(scale): \"+str(math.log(result.x[0])))\n",
    "    print()\n",
    "    print(\"mean MIC of distb (target is \"+str(avg_mic)+\"): {:.5f}\".format(fitted_lognorm_mean))\n",
    "    print(\"CDF at mean MIC: \"+str(cdf_avgMIC))\n",
    "    print(\"CDF at c_max (target is \"+str(percentile_resistant)+\"): {:.5f}\".format(cdf_percentileRes))\n",
    "    print()\n",
    "    print(\"===================================\")\n",
    "    print()\n",
    "    \n",
    "    #cdf_avgMIC = lognorm.cdf(avg_mic, s=sigma_fit, scale=scale_fit)\n",
    "    #fitted_mean = lognorm()\n",
    "    \n",
    "    \n",
    "    "
   ]
  },
  {
   "cell_type": "code",
   "execution_count": 18,
   "metadata": {},
   "outputs": [
    {
     "name": "stdout",
     "output_type": "stream",
     "text": [
      "parameters for population with 8.0% resistance and c_max = 6.0:\n",
      "scale, sigma: 2.7082599265710927, 0.5661455843087047\n",
      "mu = log(scale): 0.9963063351450816\n",
      "\n",
      "mean MIC of distb (target is 3.179): 3.17900\n",
      "CDF at mean MIC: 0.6114394374802204\n",
      "CDF at c_max (target is 0.92): 0.91999\n",
      "\n",
      "===================================\n",
      "\n",
      "parameters for population with 10.0% resistance and c_max = 6.0:\n",
      "scale, sigma: 2.537113377929902, 0.6716237970909564\n",
      "mu = log(scale): 0.9310269693820488\n",
      "\n",
      "mean MIC of distb (target is 3.179): 3.17900\n",
      "CDF at mean MIC: 0.6314938942327658\n",
      "CDF at c_max (target is 0.9): 0.90000\n",
      "\n",
      "===================================\n",
      "\n",
      "parameters for population with 12.0% resistance and c_max = 6.0:\n",
      "scale, sigma: 2.228260686179365, 0.843024762704111\n",
      "mu = log(scale): 0.8012213197893722\n",
      "\n",
      "mean MIC of distb (target is 3.179): 3.17900\n",
      "CDF at mean MIC: 0.6633095083016232\n",
      "CDF at c_max (target is 0.88): 0.88000\n",
      "\n",
      "===================================\n",
      "\n",
      "parameters for population with 1.0% resistance and c_max = 6.0:\n",
      "scale, sigma: 3.046970103312498, 0.29126805897040664\n",
      "mu = log(scale): 1.1141476881118182\n",
      "\n",
      "mean MIC of distb (target is 3.179): 3.17900\n",
      "CDF at mean MIC: 0.5578954621849941\n",
      "CDF at c_max (target is 0.99): 0.99000\n",
      "\n",
      "===================================\n",
      "\n"
     ]
    }
   ],
   "source": [
    "# avg_mic = 3.179\n",
    "# c_max = 6.\n",
    "\n",
    "# calcMuAndSigma(avg_mic, c_max, percent_resistant=8., scale_guess=3., sigma_guess=.5)\n",
    "# calcMuAndSigma(avg_mic, c_max, percent_resistant=10., scale_guess=3, sigma_guess=.6)\n",
    "# calcMuAndSigma(avg_mic, c_max, percent_resistant=12., scale_guess=3., sigma_guess=.7)\n",
    "# calcMuAndSigma(avg_mic, c_max, percent_resistant=1., scale_guess=3., sigma_guess=.2)\n"
   ]
  },
  {
   "cell_type": "code",
   "execution_count": 19,
   "metadata": {},
   "outputs": [
    {
     "name": "stdout",
     "output_type": "stream",
     "text": [
      "parameters for population with 12.0% resistance and c_max = 10.0:\n",
      "scale, sigma: 1.011492477866811, 1.5136678200472866\n",
      "mu = log(scale): 0.01142694098586215\n",
      "\n",
      "mean MIC of distb (target is 3.179): 3.18045\n",
      "CDF at mean MIC: 0.7753351693091204\n",
      "CDF at c_max (target is 0.88): 0.93494\n",
      "\n",
      "===================================\n",
      "\n"
     ]
    }
   ],
   "source": [
    "calcMuAndSigma(avg_mic, 10., percent_resistant=12., scale_guess=2, sigma_guess=0.7)"
   ]
  },
  {
   "cell_type": "code",
   "execution_count": 24,
   "metadata": {},
   "outputs": [
    {
     "name": "stdout",
     "output_type": "stream",
     "text": [
      "parameters for population with 14.0% resistance and c_max = 5.0:\n",
      "scale, sigma: 2.703747953786337, 0.5690825284230452\n",
      "mu = log(scale): 0.994638941479052\n",
      "\n",
      "mean MIC of distb (target is 3.179): 3.17900\n",
      "CDF at mean MIC: 0.6120023794126316\n",
      "CDF at c_max (target is 0.86): 0.86000\n",
      "\n",
      "===================================\n",
      "\n",
      "parameters for population with 15.0% resistance and c_max = 5.0:\n",
      "scale, sigma: 2.6133256846855746, 0.6260058161550592\n",
      "mu = log(scale): 0.9606236189114447\n",
      "\n",
      "mean MIC of distb (target is 3.179): 3.17900\n",
      "CDF at mean MIC: 0.6228616365656096\n",
      "CDF at c_max (target is 0.85): 0.85000\n",
      "\n",
      "===================================\n",
      "\n",
      "parameters for population with 16.0% resistance and c_max = 5.0:\n",
      "scale, sigma: 2.47772924764521, 0.7060073500033884\n",
      "mu = log(scale): 0.9073425147858852\n",
      "\n",
      "mean MIC of distb (target is 3.179): 3.17900\n",
      "CDF at mean MIC: 0.6379576765489011\n",
      "CDF at c_max (target is 0.84): 0.84000\n",
      "\n",
      "===================================\n",
      "\n"
     ]
    }
   ],
   "source": [
    "avg_mic = 3.179\n",
    "c_max = 5.\n",
    "\n",
    "calcMuAndSigma(avg_mic, c_max, percent_resistant=14., scale_guess=2.4, sigma_guess=.3)\n",
    "calcMuAndSigma(avg_mic, c_max, percent_resistant=15., scale_guess=3, sigma_guess=.4)\n",
    "calcMuAndSigma(avg_mic, c_max, percent_resistant=16., scale_guess=3., sigma_guess=.5)\n",
    "\n"
   ]
  },
  {
   "cell_type": "code",
   "execution_count": null,
   "metadata": {},
   "outputs": [],
   "source": []
  }
 ],
 "metadata": {
  "kernelspec": {
   "display_name": "Python 3",
   "language": "python",
   "name": "python3"
  },
  "language_info": {
   "codemirror_mode": {
    "name": "ipython",
    "version": 3
   },
   "file_extension": ".py",
   "mimetype": "text/x-python",
   "name": "python",
   "nbconvert_exporter": "python",
   "pygments_lexer": "ipython3",
   "version": "3.8.3"
  }
 },
 "nbformat": 4,
 "nbformat_minor": 4
}
